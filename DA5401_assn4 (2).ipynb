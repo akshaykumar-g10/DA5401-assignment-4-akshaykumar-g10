{
  "nbformat": 4,
  "nbformat_minor": 0,
  "metadata": {
    "colab": {
      "provenance": []
    },
    "kernelspec": {
      "name": "python3",
      "display_name": "Python 3"
    },
    "language_info": {
      "name": "python"
    }
  },
  "cells": [
    {
      "cell_type": "markdown",
      "source": [
        "# DA5401 Assignment #4\n",
        "# GMM-Based Synthetic Sampling for Imbalanced Data"
      ],
      "metadata": {
        "id": "d7-R30SXe7xR"
      }
    },
    {
      "cell_type": "markdown",
      "source": [
        "#### Libraries"
      ],
      "metadata": {
        "id": "RM3bjJ7pfVEf"
      }
    },
    {
      "cell_type": "code",
      "execution_count": 2,
      "metadata": {
        "id": "SegnxtLBey3a"
      },
      "outputs": [],
      "source": [
        "import pandas as pd\n",
        "import numpy as np\n",
        "import matplotlib.pyplot as plt\n",
        "import seaborn as sns\n",
        "from sklearn.model_selection import train_test_split\n",
        "from sklearn.linear_model import LogisticRegression\n",
        "from sklearn.metrics import classification_report, confusion_matrix, precision_recall_fscore_support\n",
        "from sklearn.mixture import GaussianMixture\n",
        "from sklearn.cluster import KMeans\n",
        "from sklearn.utils import resample\n",
        "from sklearn.preprocessing import StandardScaler"
      ]
    },
    {
      "cell_type": "markdown",
      "source": [
        "## Part A: Baseline Model and Data Analysis"
      ],
      "metadata": {
        "id": "vjbSIdACf2RF"
      }
    },
    {
      "cell_type": "markdown",
      "source": [
        "### 1. Data Loading & Analysis\n",
        "\n",
        "- Load the dataset (creditcard.csv).\n",
        "- Plotting class distribution and observing degree of imbalance"
      ],
      "metadata": {
        "id": "j_gtNBh_fgbM"
      }
    },
    {
      "cell_type": "code",
      "source": [
        "df = pd.read_csv('/content/creditcard.csv')\n",
        "print(df.head())"
      ],
      "metadata": {
        "colab": {
          "base_uri": "https://localhost:8080/"
        },
        "id": "Po0cjt6qfY2B",
        "outputId": "1b58d08d-06fc-46c8-aaaf-118a9aab1ef2"
      },
      "execution_count": 3,
      "outputs": [
        {
          "output_type": "stream",
          "name": "stdout",
          "text": [
            "   Time        V1        V2        V3        V4        V5        V6        V7  \\\n",
            "0   0.0 -1.359807 -0.072781  2.536347  1.378155 -0.338321  0.462388  0.239599   \n",
            "1   0.0  1.191857  0.266151  0.166480  0.448154  0.060018 -0.082361 -0.078803   \n",
            "2   1.0 -1.358354 -1.340163  1.773209  0.379780 -0.503198  1.800499  0.791461   \n",
            "3   1.0 -0.966272 -0.185226  1.792993 -0.863291 -0.010309  1.247203  0.237609   \n",
            "4   2.0 -1.158233  0.877737  1.548718  0.403034 -0.407193  0.095921  0.592941   \n",
            "\n",
            "         V8        V9  ...       V21       V22       V23       V24       V25  \\\n",
            "0  0.098698  0.363787  ... -0.018307  0.277838 -0.110474  0.066928  0.128539   \n",
            "1  0.085102 -0.255425  ... -0.225775 -0.638672  0.101288 -0.339846  0.167170   \n",
            "2  0.247676 -1.514654  ...  0.247998  0.771679  0.909412 -0.689281 -0.327642   \n",
            "3  0.377436 -1.387024  ... -0.108300  0.005274 -0.190321 -1.175575  0.647376   \n",
            "4 -0.270533  0.817739  ... -0.009431  0.798278 -0.137458  0.141267 -0.206010   \n",
            "\n",
            "        V26       V27       V28  Amount  Class  \n",
            "0 -0.189115  0.133558 -0.021053  149.62      0  \n",
            "1  0.125895 -0.008983  0.014724    2.69      0  \n",
            "2 -0.139097 -0.055353 -0.059752  378.66      0  \n",
            "3 -0.221929  0.062723  0.061458  123.50      0  \n",
            "4  0.502292  0.219422  0.215153   69.99      0  \n",
            "\n",
            "[5 rows x 31 columns]\n"
          ]
        }
      ]
    },
    {
      "cell_type": "code",
      "source": [
        "df.info()"
      ],
      "metadata": {
        "colab": {
          "base_uri": "https://localhost:8080/"
        },
        "id": "5zDJDg6Lf-dO",
        "outputId": "48ec397b-3a0b-446e-d0ba-c5f7ce6b7bb9"
      },
      "execution_count": 4,
      "outputs": [
        {
          "output_type": "stream",
          "name": "stdout",
          "text": [
            "<class 'pandas.core.frame.DataFrame'>\n",
            "RangeIndex: 284807 entries, 0 to 284806\n",
            "Data columns (total 31 columns):\n",
            " #   Column  Non-Null Count   Dtype  \n",
            "---  ------  --------------   -----  \n",
            " 0   Time    284807 non-null  float64\n",
            " 1   V1      284807 non-null  float64\n",
            " 2   V2      284807 non-null  float64\n",
            " 3   V3      284807 non-null  float64\n",
            " 4   V4      284807 non-null  float64\n",
            " 5   V5      284807 non-null  float64\n",
            " 6   V6      284807 non-null  float64\n",
            " 7   V7      284807 non-null  float64\n",
            " 8   V8      284807 non-null  float64\n",
            " 9   V9      284807 non-null  float64\n",
            " 10  V10     284807 non-null  float64\n",
            " 11  V11     284807 non-null  float64\n",
            " 12  V12     284807 non-null  float64\n",
            " 13  V13     284807 non-null  float64\n",
            " 14  V14     284807 non-null  float64\n",
            " 15  V15     284807 non-null  float64\n",
            " 16  V16     284807 non-null  float64\n",
            " 17  V17     284807 non-null  float64\n",
            " 18  V18     284807 non-null  float64\n",
            " 19  V19     284807 non-null  float64\n",
            " 20  V20     284807 non-null  float64\n",
            " 21  V21     284807 non-null  float64\n",
            " 22  V22     284807 non-null  float64\n",
            " 23  V23     284807 non-null  float64\n",
            " 24  V24     284807 non-null  float64\n",
            " 25  V25     284807 non-null  float64\n",
            " 26  V26     284807 non-null  float64\n",
            " 27  V27     284807 non-null  float64\n",
            " 28  V28     284807 non-null  float64\n",
            " 29  Amount  284807 non-null  float64\n",
            " 30  Class   284807 non-null  int64  \n",
            "dtypes: float64(30), int64(1)\n",
            "memory usage: 67.4 MB\n"
          ]
        }
      ]
    },
    {
      "cell_type": "code",
      "source": [
        "class_counts = df['Class'].value_counts()\n",
        "total = len(df['Class'])\n",
        "\n",
        "print(\"Class Distribution (Counts):\")\n",
        "print(class_counts)\n",
        "\n",
        "print(\"\\nClass Distribution (Percentages):\")\n",
        "print((class_counts / total) * 100)\n",
        "\n",
        "plt.figure(figsize=(6,4))\n",
        "(class_counts/total).plot(kind='bar', color=['steelblue','salmon'])\n",
        "plt.title(\"Class Distribution (Ratio)\")\n",
        "plt.ylabel(\"Proportion\")\n",
        "plt.xticks([0,1], [\"Non-Fraud (0)\", \"Fraud (1)\"], rotation=0)\n",
        "plt.show()"
      ],
      "metadata": {
        "colab": {
          "base_uri": "https://localhost:8080/",
          "height": 601
        },
        "id": "6zVs7-1zgBrU",
        "outputId": "c4b2fcf4-7cc0-4919-d07f-2055e4263ef3"
      },
      "execution_count": 5,
      "outputs": [
        {
          "output_type": "stream",
          "name": "stdout",
          "text": [
            "Class Distribution (Counts):\n",
            "Class\n",
            "0    284315\n",
            "1       492\n",
            "Name: count, dtype: int64\n",
            "\n",
            "Class Distribution (Percentages):\n",
            "Class\n",
            "0    99.827251\n",
            "1     0.172749\n",
            "Name: count, dtype: float64\n"
          ]
        },
        {
          "output_type": "display_data",
          "data": {
            "text/plain": [
              "<Figure size 600x400 with 1 Axes>"
            ],
            "image/png": "[encoded data removed]"
          },
          "metadata": {}
        }
      ]
    },
    {
      "cell_type": "markdown",
      "source": [
        "### 2.Model Training (Baseline model)\n",
        "We split the dataset into **training and testing sets**.  \n",
        "- The **training set** is used for model learning.  \n",
        "- The **test set** retains the original imbalance so evaluation reflects the real-world scenario.  \n",
        "\n",
        "We then train a **Logistic Regression** classifier on the imbalanced training data."
      ],
      "metadata": {
        "id": "78_xvQKogRkW"
      }
    },
    {
      "cell_type": "code",
      "source": [
        "X = df.drop(['Class'], axis=1)\n",
        "y = df['Class']\n",
        "scaler = StandardScaler()\n",
        "X['Amount'] = scaler.fit_transform(X[['Amount']])\n",
        "X['Time'] = scaler.fit_transform(X[['Time']])\n",
        "X_train, X_test, y_train, y_test = train_test_split(X, y, test_size=0.2, stratify=y, random_state=42)"
      ],
      "metadata": {
        "id": "WrKw6yC-gKg3"
      },
      "execution_count": 7,
      "outputs": []
    },
    {
      "cell_type": "code",
      "source": [
        "lr = LogisticRegression(max_iter=10000)\n",
        "lr.fit(X_train, y_train)\n",
        "y_pred = lr.predict(X_test)"
      ],
      "metadata": {
        "id": "lDFGitdbJy6o"
      },
      "execution_count": 8,
      "outputs": []
    },
    {
      "cell_type": "markdown",
      "source": [
        "### 3.Baseline Evaluation"
      ],
      "metadata": {
        "id": "imjeuSm0ghS1"
      }
    },
    {
      "cell_type": "code",
      "source": [
        "print(\"Baseline Model (Imbalanced Data):\")\n",
        "print(classification_report(y_test, y_pred, digits=4))"
      ],
      "metadata": {
        "colab": {
          "base_uri": "https://localhost:8080/"
        },
        "id": "n1Oo8TuOgfaK",
        "outputId": "50c60338-74fb-4e2d-d870-9d0be4fc9fc6"
      },
      "execution_count": 9,
      "outputs": [
        {
          "output_type": "stream",
          "name": "stdout",
          "text": [
            "Baseline Model (Imbalanced Data):\n",
            "              precision    recall  f1-score   support\n",
            "\n",
            "           0     0.9994    0.9998    0.9996     56864\n",
            "           1     0.8289    0.6429    0.7241        98\n",
            "\n",
            "    accuracy                         0.9992     56962\n",
            "   macro avg     0.9142    0.8213    0.8619     56962\n",
            "weighted avg     0.9991    0.9992    0.9991     56962\n",
            "\n"
          ]
        }
      ]
    },
    {
      "cell_type": "markdown",
      "source": [
        "### Interpretation :\n",
        "- Accuracy is Misleading (99.92%): This high score is due to class imbalance. A model that always predicts \"no fraud\" would also score ~99.5%, making accuracy a useless metric here.\n",
        "\n",
        "- Strong Precision (83.12%): When the model predicts \"fraud,\" it is correct 83% of the time. This minimizes false alarms.\n",
        "\n",
        "- Critically Low Recall (65.31%): The model fails to catch ~35% of all real fraud cases. These missed cases (False Negatives) are the most critical and costly error.\n",
        "\n",
        "- Mediocre F1-Score (0.7314): This score balances precision and recall, confirming the model's overall performance is inadequate for reliably detecting fraud."
      ],
      "metadata": {
        "id": "ACkoDwkjhem6"
      }
    },
    {
      "cell_type": "markdown",
      "source": [
        "## Part B: Gaussian Mixture Model (GMM) for Synthetic Sampling"
      ],
      "metadata": {
        "id": "aTVtog3viP1u"
      }
    },
    {
      "cell_type": "markdown",
      "source": [
        "### 1. Theoritical Foundation\n",
        "\n",
        "#### Difference between GMM-based Synthetic Sampling and SMOTE\n",
        "\n",
        "#### SMOTE (Synthetic Minority Oversampling Technique)\n",
        "\n",
        "- Works by selecting pairs of minority class samples and generating new points along the line segments connecting them.\n",
        "- Assumes that the minority class is roughly continuous and evenly distributed in the feature space.\n",
        "- It is deterministic and interpolation-based, not probabilistic.\n",
        "- Limitation: SMOTE cannot capture multimodal or complex structures in the data distribution, and may generate unrealistic samples in sparse regions.\n",
        "\n",
        "#### GMM (Gaussian Mixture Model)-based Synthetic Sampling\n",
        "\n",
        "- Fits a probabilistic model (mixture of Gaussian distributions) to the minority class.\n",
        "- Each Gaussian component represents a cluster or sub-distribution of the minority class.\n",
        "- Synthetic samples are generated by sampling from the learned probability distribution.\n",
        "- This allows more realistic and diverse synthetic points, especially in cases where the data distribution is multimodal or skewed."
      ],
      "metadata": {
        "id": "36cwsLzGj7LI"
      }
    },
    {
      "cell_type": "markdown",
      "source": [
        "2. Why GMM is Theoretically Better\n",
        "\n",
        "- The minority class often has sub-groups (e.g., different fraud patterns in fraud detection).\n",
        "- GMM can capture this by modeling the data as a weighted sum of multiple Gaussian distributions, each representing a subgroup.\n",
        "- Unlike SMOTE, which only interpolates between existing points, GMM generalizes the underlying density, so synthetic samples are drawn from a distribution that closely mimics the real data.\n",
        "- This reduces the risk of generating:\n",
        "Unrealistic synthetic points in empty regions of the feature space.\n",
        "- Overlapping with majority class regions (which can cause misclassification).\n",
        "\n",
        "In summary, GMM-based sampling respects the geometry and probabilistic structure of the minority data, making it more robust and flexible for complex datasets."
      ],
      "metadata": {
        "id": "pquRBWKvk3f7"
      }
    },
    {
      "cell_type": "code",
      "source": [
        "minority = X_train[y_train == 1]\n",
        "\n",
        "lowest_bic = np.inf\n",
        "lowest_aic = np.inf\n",
        "bic = []\n",
        "aic = []\n",
        "n_components_range = range(1, 21)\n",
        "\n",
        "best_gmm_bic = None\n",
        "best_gmm_aic = None\n",
        "\n",
        "for n_components in n_components_range:\n",
        "    gmm = GaussianMixture(n_components=n_components, covariance_type='full', random_state=42)\n",
        "    gmm.fit(minority)\n",
        "\n",
        "    bic_val = gmm.bic(minority)\n",
        "    aic_val = gmm.aic(minority)\n",
        "\n",
        "    bic.append(bic_val)\n",
        "    aic.append(aic_val)\n",
        "\n",
        "    if bic_val < lowest_bic:\n",
        "        lowest_bic = bic_val\n",
        "        best_gmm_bic = gmm\n",
        "\n",
        "    if aic_val < lowest_aic:\n",
        "        lowest_aic = aic_val\n",
        "        best_gmm_aic = gmm\n",
        "\n",
        "print(f\"Best GMM components by BIC: {best_gmm_bic.n_components}\")\n",
        "print(f\"Best GMM components by AIC: {best_gmm_aic.n_components}\")\n",
        "\n",
        "\n",
        "plt.figure(figsize=(8,5))\n",
        "plt.plot(n_components_range, bic, label='BIC', marker='o')\n",
        "plt.plot(n_components_range, aic, label='AIC', marker='s')\n",
        "plt.xlabel(\"Number of Components (k)\")\n",
        "plt.ylabel(\"Score\")\n",
        "plt.title(\"AIC and BIC for GMM Model Selection\")\n",
        "plt.legend()\n",
        "plt.grid(True)\n",
        "plt.show()\n"
      ],
      "metadata": {
        "colab": {
          "base_uri": "https://localhost:8080/",
          "height": 522
        },
        "id": "MVZloph73M5I",
        "outputId": "425db4ea-30cb-41e9-c02c-b92319e3be60"
      },
      "execution_count": 35,
      "outputs": [
        {
          "output_type": "stream",
          "name": "stdout",
          "text": [
            "Best GMM components by BIC: 3\n",
            "Best GMM components by AIC: 19\n"
          ]
        },
        {
          "output_type": "display_data",
          "data": {
            "text/plain": [
              "<Figure size 800x500 with 1 Axes>"
            ],
            "image/png": "[encoded data removed]"
          },
          "metadata": {}
        }
      ]
    },
    {
      "cell_type": "markdown",
      "source": [
        "### Interpretation :\n",
        "Based on the BIC curve, BIC is minimum at k=3\n",
        "\n",
        "Therefore, we select k=3 as the optimal number of components, as it balances model complexity with generalization."
      ],
      "metadata": {
        "id": "cx23KaeIn8S4"
      }
    },
    {
      "cell_type": "markdown",
      "source": [
        "### Synthetic Data Generation: Oversampled only with GMM\n",
        "\n"
      ],
      "metadata": {
        "id": "u6KswlPcpQV8"
      }
    },
    {
      "cell_type": "code",
      "source": [
        "n_majority = sum(y_train==0)\n",
        "n_minority = sum(y_train==1)\n",
        "n_to_generate = n_majority - n_minority\n",
        "\n",
        "gmm_f = GaussianMixture(n_components=3, covariance_type='full', random_state=42)\n",
        "gmm_f.fit(minority)\n",
        "\n",
        "synthetic_samples, _ = gmm_f.sample(n_to_generate)\n",
        "synthetic_labels = np.ones(n_to_generate)\n",
        "\n",
        "X_train_gmm = np.vstack([X_train, synthetic_samples])\n",
        "y_train_gmm = np.hstack([y_train, synthetic_labels])\n",
        "\n",
        "print(\"Original minority count:\", n_minority)\n",
        "print(\"Synthetic samples generated:\", n_to_generate)\n",
        "print(\"Balanced training size:\", len(y_train_gmm))"
      ],
      "metadata": {
        "colab": {
          "base_uri": "https://localhost:8080/"
        },
        "id": "GL-ISMaBnf2x",
        "outputId": "415d0a00-7a7a-4191-9f84-c374e74ab609"
      },
      "execution_count": 16,
      "outputs": [
        {
          "output_type": "stream",
          "name": "stdout",
          "text": [
            "Original minority count: 394\n",
            "Synthetic samples generated: 227057\n",
            "Balanced training size: 454902\n"
          ]
        }
      ]
    },
    {
      "cell_type": "markdown",
      "source": [
        "### Rebalancing with CBU"
      ],
      "metadata": {
        "id": "5qu2_w7vr6AV"
      }
    },
    {
      "cell_type": "code",
      "source": [
        "majority = X_train[y_train == 0]\n",
        "\n",
        "k_values = range(1,20)\n",
        "inertias = []\n",
        "\n",
        "for k in k_values:\n",
        "    print(f\"Running KMeans with k={k}...\")\n",
        "    kmeans = KMeans(n_clusters=k, random_state=42, n_init=10)\n",
        "    kmeans.fit(majority)\n",
        "    inertias.append(kmeans.inertia_)\n",
        "\n",
        "plt.figure(figsize=(8,5))\n",
        "plt.plot(k_values, inertias, marker='o')\n",
        "plt.xlabel(\"Number of Clusters (k)\")\n",
        "plt.ylabel(\"Inertia (Within-cluster SSE)\")\n",
        "plt.title(\"Elbow Method for Choosing k in CBU\")\n",
        "plt.grid(True)\n",
        "plt.show()\n",
        "\n",
        "for k, inertia in zip(k_values, inertias):\n",
        "    print(f\"k={k}: Inertia={inertia:.2f}\")\n"
      ],
      "metadata": {
        "colab": {
          "base_uri": "https://localhost:8080/",
          "height": 1000
        },
        "id": "VBPClsTC1FpK",
        "outputId": "e623ec8f-89e2-4e50-bd96-2b0284a6dfc6"
      },
      "execution_count": 33,
      "outputs": [
        {
          "output_type": "stream",
          "name": "stdout",
          "text": [
            "Running KMeans with k=1...\n",
            "Running KMeans with k=2...\n",
            "Running KMeans with k=3...\n",
            "Running KMeans with k=4...\n",
            "Running KMeans with k=5...\n",
            "Running KMeans with k=6...\n",
            "Running KMeans with k=7...\n",
            "Running KMeans with k=8...\n",
            "Running KMeans with k=9...\n",
            "Running KMeans with k=10...\n",
            "Running KMeans with k=11...\n",
            "Running KMeans with k=12...\n",
            "Running KMeans with k=13...\n",
            "Running KMeans with k=14...\n",
            "Running KMeans with k=15...\n",
            "Running KMeans with k=16...\n",
            "Running KMeans with k=17...\n",
            "Running KMeans with k=18...\n",
            "Running KMeans with k=19...\n"
          ]
        },
        {
          "output_type": "display_data",
          "data": {
            "text/plain": [
              "<Figure size 800x500 with 1 Axes>"
            ],
            "image/png": "[encoded data removed]"
          },
          "metadata": {}
        },
        {
          "output_type": "stream",
          "name": "stdout",
          "text": [
            "k=1: Inertia=7135874.46\n",
            "k=2: Inertia=6522125.41\n",
            "k=3: Inertia=6142282.27\n",
            "k=4: Inertia=5863539.12\n",
            "k=5: Inertia=5654196.25\n",
            "k=6: Inertia=5392913.11\n",
            "k=7: Inertia=5246558.17\n",
            "k=8: Inertia=5004852.08\n",
            "k=9: Inertia=4864773.23\n",
            "k=10: Inertia=4683131.11\n",
            "k=11: Inertia=4581738.98\n",
            "k=12: Inertia=4492404.68\n",
            "k=13: Inertia=4367273.87\n",
            "k=14: Inertia=4309377.34\n",
            "k=15: Inertia=4180885.51\n",
            "k=16: Inertia=4096246.80\n",
            "k=17: Inertia=4038987.92\n",
            "k=18: Inertia=3969939.28\n",
            "k=19: Inertia=3880056.43\n"
          ]
        }
      ]
    },
    {
      "cell_type": "code",
      "source": [
        "majority = X_train[y_train == 0]\n",
        "n_target_majority = 2*(n_minority)\n",
        "\n",
        "k=5\n",
        "kmeans = KMeans(n_clusters=k, random_state=42)\n",
        "clusters = kmeans.fit_predict(majority)\n",
        "\n",
        "X_majority_undersampled = []\n",
        "\n",
        "for cluster_id in range(k):\n",
        "    cluster_samples = majority[clusters == cluster_id]\n",
        "    cluster_size = len(cluster_samples)\n",
        "    n_keep = max(1, int((cluster_size / len(majority)) * n_target_majority))\n",
        "\n",
        "    cluster_resampled = resample(cluster_samples,\n",
        "                                 replace=False,\n",
        "                                 n_samples=n_keep,\n",
        "                                 random_state=42)\n",
        "    X_majority_undersampled.append(cluster_resampled)\n",
        "\n",
        "X_majority_cbu = np.vstack(X_majority_undersampled)\n",
        "y_majority_cbu = np.zeros(len(X_majority_cbu))\n",
        "\n",
        "n_to_generate_cbu = len(X_majority_cbu) - len(minority)\n",
        "\n",
        "synthetic_samples_cbu, _ = gmm_f.sample(n_to_generate_cbu)\n",
        "synthetic_labels_cbu = np.ones(n_to_generate_cbu)\n",
        "\n",
        "X_minority_cbu = np.vstack([minority, synthetic_samples_cbu])\n",
        "y_minority_cbu = np.ones(len(X_minority_cbu))\n",
        "\n",
        "X_train_cbu_gmm = np.vstack([X_majority_cbu, X_minority_cbu])\n",
        "y_train_cbu_gmm = np.hstack([y_majority_cbu, y_minority_cbu])\n",
        "\n",
        "print(\"After CBU + GMM balancing:\")\n",
        "print(\"Majority class size:\", len(y_majority_cbu))\n",
        "print(\"Minority class size:\", len(y_minority_cbu))\n"
      ],
      "metadata": {
        "colab": {
          "base_uri": "https://localhost:8080/"
        },
        "id": "mYeCXZtDOxpd",
        "outputId": "f3589878-f37b-4b7f-9d75-064b70b6457f"
      },
      "execution_count": 29,
      "outputs": [
        {
          "output_type": "stream",
          "name": "stdout",
          "text": [
            "After CBU + GMM balancing:\n",
            "Majority class size: 786\n",
            "Minority class size: 786\n"
          ]
        }
      ]
    },
    {
      "cell_type": "markdown",
      "source": [
        "##  Part C : Performance Evaluation and Conclusion"
      ],
      "metadata": {
        "id": "epUZ1EeQt8uM"
      }
    },
    {
      "cell_type": "markdown",
      "source": [
        "### Model 2 : Oversampled with GMM"
      ],
      "metadata": {
        "id": "XfrIhAknuCYu"
      }
    },
    {
      "cell_type": "code",
      "source": [
        "lr_gmm = LogisticRegression(max_iter=10000)\n",
        "lr_gmm.fit(X_train_gmm, y_train_gmm)\n",
        "y_pred_gmm = lr_gmm.predict(X_test)\n",
        "\n",
        "print(\"\\nModel 2: Logistic Regression with GMM\")\n",
        "print(classification_report(y_test, y_pred_gmm, digits=4))"
      ],
      "metadata": {
        "id": "N7lW-XAzsyGD",
        "colab": {
          "base_uri": "https://localhost:8080/"
        },
        "outputId": "53506dc6-fd66-4dc1-8a96-5977e657283d"
      },
      "execution_count": 30,
      "outputs": [
        {
          "output_type": "stream",
          "name": "stdout",
          "text": [
            "\n",
            "Model 2: Logistic Regression with GMM\n",
            "              precision    recall  f1-score   support\n",
            "\n",
            "           0     0.9998    0.9827    0.9912     56864\n",
            "           1     0.0829    0.9082    0.1520        98\n",
            "\n",
            "    accuracy                         0.9826     56962\n",
            "   macro avg     0.5414    0.9454    0.5716     56962\n",
            "weighted avg     0.9983    0.9826    0.9897     56962\n",
            "\n"
          ]
        },
        {
          "output_type": "stream",
          "name": "stderr",
          "text": [
            "/usr/local/lib/python3.12/dist-packages/sklearn/utils/validation.py:2732: UserWarning: X has feature names, but LogisticRegression was fitted without feature names\n",
            "  warnings.warn(\n"
          ]
        }
      ]
    },
    {
      "cell_type": "markdown",
      "source": [
        "### Model 3 : CBU + GMM"
      ],
      "metadata": {
        "id": "jKDL61AOqeSF"
      }
    },
    {
      "cell_type": "code",
      "source": [
        "lr_cbu_gmm = LogisticRegression(max_iter=10000)\n",
        "lr_cbu_gmm.fit(X_train_cbu_gmm, y_train_cbu_gmm)\n",
        "y_pred_cbu_gmm = lr_cbu_gmm.predict(X_test)\n",
        "\n",
        "print(\"\\nModel 3: Logistic Regression with CBU + GMM\")\n",
        "print(classification_report(y_test, y_pred_cbu_gmm, digits=4))"
      ],
      "metadata": {
        "colab": {
          "base_uri": "https://localhost:8080/"
        },
        "id": "IdepxLM8uTAs",
        "outputId": "6d9aab5b-9435-444e-fa43-a857ec81c345"
      },
      "execution_count": 31,
      "outputs": [
        {
          "output_type": "stream",
          "name": "stdout",
          "text": [
            "\n",
            "Model 3: Logistic Regression with CBU + GMM\n",
            "              precision    recall  f1-score   support\n",
            "\n",
            "           0     0.9998    0.9764    0.9880     56864\n",
            "           1     0.0621    0.9082    0.1163        98\n",
            "\n",
            "    accuracy                         0.9762     56962\n",
            "   macro avg     0.5310    0.9423    0.5521     56962\n",
            "weighted avg     0.9982    0.9762    0.9865     56962\n",
            "\n"
          ]
        },
        {
          "output_type": "stream",
          "name": "stderr",
          "text": [
            "/usr/local/lib/python3.12/dist-packages/sklearn/utils/validation.py:2732: UserWarning: X has feature names, but LogisticRegression was fitted without feature names\n",
            "  warnings.warn(\n"
          ]
        }
      ]
    },
    {
      "cell_type": "markdown",
      "source": [
        "### 2. Comparative Analysis"
      ],
      "metadata": {
        "id": "g5FtE6bwrCUN"
      }
    },
    {
      "cell_type": "code",
      "source": [
        "from tabulate import tabulate\n",
        "\n",
        "def get_metrics(y_true, y_pred):\n",
        "    precision, recall, f1, _ = precision_recall_fscore_support(y_true, y_pred, average='binary')\n",
        "    return [precision, recall, f1]\n",
        "\n",
        "metrics = {\n",
        "    \"Baseline\": get_metrics(y_test, y_pred),\n",
        "    \"GMM\": get_metrics(y_test, y_pred_gmm),\n",
        "    \"CBU + GMM\": get_metrics(y_test, y_pred_cbu_gmm)\n",
        "}\n",
        "\n",
        "print(\"\\nPerformance Comparison:\")\n",
        "print(tabulate([(k, *v) for k,v in metrics.items()], headers=[\"Model\",\"Precision\",\"Recall\",\"F1\"]))\n",
        "\n",
        "comparison_df = pd.DataFrame(metrics, index=[\"Precision\",\"Recall\",\"F1\"])\n",
        "comparison_df.T.plot(kind='bar', figsize=(10,6))\n",
        "plt.title(\"Model Performance Comparison (Minority Class)\")\n",
        "plt.ylabel(\"Score\")\n",
        "plt.show()"
      ],
      "metadata": {
        "colab": {
          "base_uri": "https://localhost:8080/",
          "height": 736
        },
        "id": "4PzetL8UDlmC",
        "outputId": "948105a5-1a2e-4933-d2e9-207b1bec4dea"
      },
      "execution_count": 32,
      "outputs": [
        {
          "output_type": "stream",
          "name": "stdout",
          "text": [
            "\n",
            "Performance Comparison:\n",
            "Model        Precision    Recall        F1\n",
            "---------  -----------  --------  --------\n",
            "Baseline     0.828947   0.642857  0.724138\n",
            "GMM          0.082945   0.908163  0.152007\n",
            "CBU + GMM    0.0621075  0.908163  0.116264\n"
          ]
        },
        {
          "output_type": "display_data",
          "data": {
            "text/plain": [
              "<Figure size 1000x600 with 1 Axes>"
            ],
            "image/png": "[encoded data removed]"
          },
          "metadata": {}
        }
      ]
    },
    {
      "cell_type": "markdown",
      "source": [
        "### Interpretation:\n",
        "\n",
        "1. Baseline (without resampling)\n",
        "\n",
        "- Precision is very high (~0.83): When the model predicts fraud, it is usually correct.\n",
        "- Recall is moderate (~0.64): The model misses a significant fraction of fraud cases.\n",
        "- F1-score (~0.72): Balanced performance.\n",
        "\n",
        "2. GMM Oversampling\n",
        "\n",
        "- Recall shoots up to ~0.91: The model becomes much better at detecting fraud.\n",
        "- Precision drops drastically (~0.09): Most of the predicted frauds are false alarms.\n",
        "- F1-score drops (~0.15): Overall performance worsens despite high recall.\n",
        "\n",
        "3. CBU + GMM\n",
        "\n",
        "- Very similar to GMM-only: high recall (0.91), low precision (0.08), poor F1 (~0.14).\n",
        "- Clustering-based undersampling didn’t fix the precision-recall tradeoff."
      ],
      "metadata": {
        "id": "UOW-B8L9sq7u"
      }
    },
    {
      "cell_type": "markdown",
      "source": [
        "### Conclusion:\n",
        "\n",
        "Based on both results and theoretical understanding:\n",
        "\n",
        "1. Effectiveness of GMM in this context:\n",
        "\n",
        "- GMM oversampling does improve recall significantly (good for not missing frauds).\n",
        "- However, the drop in precision and F1 shows that synthetic samples from GMM may not represent the true minority distribution well. They might confuse the classifier by overlapping too much with majority class space.\n",
        "- Thus, the tradeoff is poor: you detect almost all frauds but at the cost of flagging many normal transactions.\n",
        "\n",
        "2. Recommendation:\n",
        "\n",
        "- Do not rely on GMM oversampling alone in this fraud detection setting.\n",
        "- It can be useful if high recall is absolutely critical (e.g., catching all frauds and letting humans investigate flagged cases).\n",
        "- But for a balanced automated system, GMM oversampling is not recommended due to poor precision and F1.\n"
      ],
      "metadata": {
        "id": "-xCuOlnVtL7m"
      }
    }
  ]
}